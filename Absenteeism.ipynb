{
 "cells": [
  {
   "cell_type": "markdown",
   "id": "14b77543",
   "metadata": {},
   "source": [
    "<b>I learned about Data Cleaning using one of Python's popular libraries, Pandas.\n",
    "<br>\n",
    "I tried to clean the entire raw dataset in a CSV file called \"Absenteeism\" in this opportunity. \n",
    "<br>\n",
    "I got this file from my online course instructor.\n",
    "<br>\n",
    "I will put the course's link below:\n",
    "<br>\n",
    "https://www.udemy.com/course/the-data-analyst-course-complete-data-analyst-bootcamp/\n",
    "<b>"
   ]
  },
  {
   "cell_type": "code",
   "execution_count": null,
   "id": "387b66ee",
   "metadata": {},
   "outputs": [],
   "source": [
    "import pandas as pd"
   ]
  },
  {
   "cell_type": "code",
   "execution_count": null,
   "id": "85dea0e9",
   "metadata": {},
   "outputs": [],
   "source": [
    "import numpy as np"
   ]
  },
  {
   "cell_type": "code",
   "execution_count": null,
   "id": "b9c98a9f",
   "metadata": {},
   "outputs": [],
   "source": [
    "df = pd.read_csv('Absenteeism-data.csv')\n",
    "my_copy = df.copy()\n",
    "my_copy.head()"
   ]
  },
  {
   "cell_type": "code",
   "execution_count": null,
   "id": "784aec4a",
   "metadata": {},
   "outputs": [],
   "source": [
    "# THERE IS NO NaN VALUES IN ALL COLUMNS\n",
    "# is_nan = my_copy['Absenteeism Time in Hours'].isna().any()\n",
    "\n",
    "# # Print the result\n",
    "# if is_nan:\n",
    "#     print(\"There are NaN values in 'column_name'\")\n",
    "# else:\n",
    "#     print(\"There are no NaN values in 'column_name'\")"
   ]
  },
  {
   "cell_type": "code",
   "execution_count": null,
   "id": "0f93e373",
   "metadata": {},
   "outputs": [],
   "source": [
    "# CHECK IF THERE IS A VALUE WITH DIFFERENT DATA TYPE THAN THE OTHERS IN EACH COLUMN\n",
    "# unique_values = my_copy['Transportation Expense'].unique()\n",
    "\n",
    "# # Check if the data type of each value is the same as the data type of the majority of values\n",
    "# majority_dtype = my_copy['Transportation Expense'].apply(type).mode()[0]\n",
    "# for value in unique_values:\n",
    "#     if type(value) != majority_dtype:\n",
    "#         print(f\"The value {value} in 'column_name' has a different data type ({type(value)}) than the others.\")\n",
    "# else:\n",
    "#     print(\"All values in 'column_name' have the same data type.\")\n",
    "\n",
    "# print(unique_values)"
   ]
  },
  {
   "cell_type": "code",
   "execution_count": null,
   "id": "e4782376",
   "metadata": {},
   "outputs": [],
   "source": [
    "print(my_copy.dtypes)"
   ]
  },
  {
   "cell_type": "code",
   "execution_count": null,
   "id": "b49b498e",
   "metadata": {},
   "outputs": [],
   "source": [
    "print(my_copy.isnull().sum())"
   ]
  },
  {
   "cell_type": "code",
   "execution_count": null,
   "id": "0234a424",
   "metadata": {},
   "outputs": [],
   "source": [
    "my_copy = my_copy.dropna() # row\n",
    "my_copy = my_copy.dropna(axis = 1) # column"
   ]
  },
  {
   "cell_type": "code",
   "execution_count": null,
   "id": "b22eae73",
   "metadata": {},
   "outputs": [],
   "source": [
    "my_copy = my_copy.fillna(0)"
   ]
  },
  {
   "cell_type": "code",
   "execution_count": null,
   "id": "fa0c7ee5",
   "metadata": {},
   "outputs": [],
   "source": [
    "my_copy.head()"
   ]
  },
  {
   "cell_type": "code",
   "execution_count": null,
   "id": "04cad463",
   "metadata": {},
   "outputs": [],
   "source": [
    "my_copy = my_copy.rename(columns={'Body Mass Index':'BMI'})"
   ]
  },
  {
   "cell_type": "code",
   "execution_count": null,
   "id": "16902728",
   "metadata": {},
   "outputs": [],
   "source": [
    "my_copy.head()"
   ]
  },
  {
   "cell_type": "code",
   "execution_count": null,
   "id": "9dcc90bd",
   "metadata": {},
   "outputs": [],
   "source": [
    "my_copy = my_copy.set_index('ID')"
   ]
  },
  {
   "cell_type": "code",
   "execution_count": null,
   "id": "420ae209",
   "metadata": {},
   "outputs": [],
   "source": [
    "my_copy.head()"
   ]
  },
  {
   "cell_type": "code",
   "execution_count": null,
   "id": "daab2680",
   "metadata": {},
   "outputs": [],
   "source": [
    "my_copy = my_copy.sort_index()\n",
    "my_copy.head()"
   ]
  },
  {
   "cell_type": "code",
   "execution_count": null,
   "id": "0122d464",
   "metadata": {},
   "outputs": [],
   "source": [
    "len(df)"
   ]
  },
  {
   "cell_type": "code",
   "execution_count": null,
   "id": "ef2505dc",
   "metadata": {},
   "outputs": [],
   "source": [
    "my_copy.nunique()"
   ]
  },
  {
   "cell_type": "code",
   "execution_count": null,
   "id": "9824355c",
   "metadata": {},
   "outputs": [],
   "source": [
    "# Analyze 'Reason for Absence' Column"
   ]
  },
  {
   "cell_type": "code",
   "execution_count": null,
   "id": "25c67321",
   "metadata": {},
   "outputs": [],
   "source": [
    "my_copy['Reason for Absence']"
   ]
  },
  {
   "cell_type": "code",
   "execution_count": null,
   "id": "52553d61",
   "metadata": {},
   "outputs": [],
   "source": [
    "my_copy['Reason for Absence'].min()"
   ]
  },
  {
   "cell_type": "code",
   "execution_count": null,
   "id": "eec08924",
   "metadata": {},
   "outputs": [],
   "source": [
    "my_copy['Reason for Absence'].max()"
   ]
  },
  {
   "cell_type": "code",
   "execution_count": null,
   "id": "70219b9e",
   "metadata": {},
   "outputs": [],
   "source": [
    "my_copy['Reason for Absence'].unique()"
   ]
  },
  {
   "cell_type": "code",
   "execution_count": null,
   "id": "b09bb1ba",
   "metadata": {},
   "outputs": [],
   "source": [
    "len(my_copy['Reason for Absence'].unique())"
   ]
  },
  {
   "cell_type": "code",
   "execution_count": null,
   "id": "ba3e4738",
   "metadata": {},
   "outputs": [],
   "source": [
    "# Missing Value = 20\n",
    "sorted(my_copy['Reason for Absence'].unique())"
   ]
  },
  {
   "cell_type": "code",
   "execution_count": null,
   "id": "272388df",
   "metadata": {},
   "outputs": [],
   "source": [
    "# .get_dummies()\n",
    "# converts categorical variable into dummy variables"
   ]
  },
  {
   "cell_type": "code",
   "execution_count": null,
   "id": "686c16de",
   "metadata": {},
   "outputs": [],
   "source": [
    "reason_columns = pd.get_dummies(my_copy['Reason for Absence'])"
   ]
  },
  {
   "cell_type": "code",
   "execution_count": null,
   "id": "95dfa79d",
   "metadata": {},
   "outputs": [],
   "source": [
    "reason_columns"
   ]
  },
  {
   "cell_type": "code",
   "execution_count": null,
   "id": "c0f769c9",
   "metadata": {},
   "outputs": [],
   "source": [
    "reason_columns['check'] = reason_columns.sum(axis = 1)"
   ]
  },
  {
   "cell_type": "code",
   "execution_count": null,
   "id": "8cb777d0",
   "metadata": {},
   "outputs": [],
   "source": [
    "reason_columns"
   ]
  },
  {
   "cell_type": "code",
   "execution_count": null,
   "id": "37b435b1",
   "metadata": {},
   "outputs": [],
   "source": [
    "# if (reason_columns['check'] == 0).any():\n",
    "#     print(\"Column 'A' contains at least one zero value.\")\n",
    "# else:\n",
    "#     print(\"Column 'A' does not contain any zero values.\")"
   ]
  },
  {
   "cell_type": "code",
   "execution_count": null,
   "id": "ee76abe6",
   "metadata": {},
   "outputs": [],
   "source": [
    "# Drop reason 0\n",
    "reason_columns = pd.get_dummies(my_copy['Reason for Absence'], drop_first = True)"
   ]
  },
  {
   "cell_type": "code",
   "execution_count": null,
   "id": "6988ead6",
   "metadata": {},
   "outputs": [],
   "source": [
    "reason_columns "
   ]
  },
  {
   "cell_type": "code",
   "execution_count": null,
   "id": "6e4a2d3d",
   "metadata": {},
   "outputs": [],
   "source": [
    "my_copy.columns.values"
   ]
  },
  {
   "cell_type": "code",
   "execution_count": null,
   "id": "59ec13ff",
   "metadata": {},
   "outputs": [],
   "source": [
    "reason_columns.columns.values"
   ]
  },
  {
   "cell_type": "code",
   "execution_count": null,
   "id": "d840925a",
   "metadata": {},
   "outputs": [],
   "source": [
    "my_copy = my_copy.drop(['Reason for Absence'], axis = 1)"
   ]
  },
  {
   "cell_type": "code",
   "execution_count": null,
   "id": "e14b4170",
   "metadata": {},
   "outputs": [],
   "source": [
    "my_copy.head()"
   ]
  },
  {
   "cell_type": "code",
   "execution_count": null,
   "id": "39a69c01",
   "metadata": {},
   "outputs": [],
   "source": [
    "# Grouping the Reason for Absence\n",
    "# Reason 1: 1-14 = Diseases\n",
    "# Reason 2: 15-17 = Pregnancy\n",
    "# Reason 3: 18-21 = Poison\n",
    "# Reason 4: 22-28 = Light Reason"
   ]
  },
  {
   "cell_type": "code",
   "execution_count": null,
   "id": "bf4f8138",
   "metadata": {},
   "outputs": [],
   "source": [
    "# Reason 1\n",
    "reason_columns.loc[:,1:14]\n",
    "\n",
    "# Reason 2\n",
    "reason_columns.loc[:,15:17]\n",
    "\n",
    "# Reason 3\n",
    "reason_columns.loc[:,18:21]\n",
    "\n",
    "# Reason 4\n",
    "reason_columns.loc[:,22:28]"
   ]
  },
  {
   "cell_type": "code",
   "execution_count": null,
   "id": "2264e7ad",
   "metadata": {},
   "outputs": [],
   "source": [
    "reason_1 = reason_columns.loc[:,1:14].max(axis = 1)\n",
    "reason_2 = reason_columns.loc[:,15:17].max(axis = 1)\n",
    "reason_3 = reason_columns.loc[:,18:21].max(axis = 1)\n",
    "reason_4 = reason_columns.loc[:,22:28].max(axis = 1)"
   ]
  },
  {
   "cell_type": "code",
   "execution_count": null,
   "id": "75208098",
   "metadata": {},
   "outputs": [],
   "source": [
    "# Concatenate Column Values"
   ]
  },
  {
   "cell_type": "code",
   "execution_count": null,
   "id": "3852d1c1",
   "metadata": {},
   "outputs": [],
   "source": [
    "my_copy.head()"
   ]
  },
  {
   "cell_type": "code",
   "execution_count": null,
   "id": "3724800d",
   "metadata": {},
   "outputs": [],
   "source": [
    "my_copy = pd.concat([my_copy, reason_1, reason_2, reason_3, reason_4], axis = 1)"
   ]
  },
  {
   "cell_type": "code",
   "execution_count": null,
   "id": "5b5710cb",
   "metadata": {},
   "outputs": [],
   "source": [
    "my_copy"
   ]
  },
  {
   "cell_type": "code",
   "execution_count": null,
   "id": "646058a4",
   "metadata": {},
   "outputs": [],
   "source": [
    "my_copy = my_copy.sort_values('Date')"
   ]
  },
  {
   "cell_type": "code",
   "execution_count": null,
   "id": "26605b57",
   "metadata": {},
   "outputs": [],
   "source": [
    "my_copy"
   ]
  },
  {
   "cell_type": "code",
   "execution_count": null,
   "id": "511ddb63",
   "metadata": {},
   "outputs": [],
   "source": [
    "my_copy['Date'] = pd.to_datetime(my_copy['Date'], dayfirst=True)"
   ]
  },
  {
   "cell_type": "code",
   "execution_count": null,
   "id": "64a049b8",
   "metadata": {},
   "outputs": [],
   "source": [
    "my_copy = my_copy.sort_values(by='Date', ascending = True)"
   ]
  },
  {
   "cell_type": "code",
   "execution_count": null,
   "id": "eeff587f",
   "metadata": {},
   "outputs": [],
   "source": [
    "my_copy"
   ]
  },
  {
   "cell_type": "code",
   "execution_count": null,
   "id": "dddd8f01",
   "metadata": {},
   "outputs": [],
   "source": [
    "my_copy.loc[my_copy['Date'] == '2015-07-07']"
   ]
  },
  {
   "cell_type": "code",
   "execution_count": null,
   "id": "6ba8c52e",
   "metadata": {},
   "outputs": [],
   "source": [
    "my_copy.columns.values"
   ]
  },
  {
   "cell_type": "code",
   "execution_count": null,
   "id": "1be67c00",
   "metadata": {},
   "outputs": [],
   "source": [
    "columns = ['Date', 'Transportation Expense', 'Distance to Work', 'Age',\n",
    "       'Daily Work Load Average', 'BMI', 'Education', 'Children', 'Pets',\n",
    "       'Absenteeism Time in Hours', 'Reason 1', 'Reason 2', 'Reason 3', 'Reason 4']"
   ]
  },
  {
   "cell_type": "code",
   "execution_count": null,
   "id": "faacd83a",
   "metadata": {},
   "outputs": [],
   "source": [
    "my_copy.columns = columns"
   ]
  },
  {
   "cell_type": "code",
   "execution_count": null,
   "id": "21b8c6ad",
   "metadata": {},
   "outputs": [],
   "source": [
    "my_copy.columns.values"
   ]
  },
  {
   "cell_type": "code",
   "execution_count": null,
   "id": "81b57f7e",
   "metadata": {},
   "outputs": [],
   "source": [
    "my_copy"
   ]
  },
  {
   "cell_type": "code",
   "execution_count": null,
   "id": "99a4afee",
   "metadata": {},
   "outputs": [],
   "source": [
    "# Reorder Columns"
   ]
  },
  {
   "cell_type": "code",
   "execution_count": null,
   "id": "65948a7f",
   "metadata": {},
   "outputs": [],
   "source": [
    "column_reordered = ['Reason 1', 'Reason 2', 'Reason 3', 'Reason 4', 'Date', 'Transportation Expense', 'Distance to Work', 'Age',\n",
    "       'Daily Work Load Average', 'BMI', 'Education', 'Children', 'Pets',\n",
    "       'Absenteeism Time in Hours']"
   ]
  },
  {
   "cell_type": "code",
   "execution_count": null,
   "id": "64515b2d",
   "metadata": {},
   "outputs": [],
   "source": [
    "my_copy = my_copy[column_reordered]"
   ]
  },
  {
   "cell_type": "code",
   "execution_count": null,
   "id": "46552dcd",
   "metadata": {},
   "outputs": [],
   "source": [
    "my_copy"
   ]
  },
  {
   "cell_type": "code",
   "execution_count": null,
   "id": "c1d6a416",
   "metadata": {},
   "outputs": [],
   "source": [
    "type(my_copy['Date'])"
   ]
  },
  {
   "cell_type": "code",
   "execution_count": null,
   "id": "b91cece7",
   "metadata": {},
   "outputs": [],
   "source": [
    "my_copy.info()"
   ]
  },
  {
   "cell_type": "code",
   "execution_count": null,
   "id": "9c4509c3",
   "metadata": {},
   "outputs": [],
   "source": [
    "months = my_copy['Date'].dt.month.to_list()"
   ]
  },
  {
   "cell_type": "code",
   "execution_count": null,
   "id": "eb46e132",
   "metadata": {},
   "outputs": [],
   "source": [
    "months"
   ]
  },
  {
   "cell_type": "code",
   "execution_count": null,
   "id": "bdfb927d",
   "metadata": {},
   "outputs": [],
   "source": [
    "my_copy['Month Value'] = months"
   ]
  },
  {
   "cell_type": "code",
   "execution_count": null,
   "id": "4f8d80c8",
   "metadata": {},
   "outputs": [],
   "source": [
    "my_copy"
   ]
  },
  {
   "cell_type": "code",
   "execution_count": null,
   "id": "ddaa70e7",
   "metadata": {},
   "outputs": [],
   "source": [
    "# Extract the day of the week"
   ]
  },
  {
   "cell_type": "code",
   "execution_count": null,
   "id": "ad2b9d6b",
   "metadata": {},
   "outputs": [],
   "source": [
    "my_copy['Date'].weekday()"
   ]
  },
  {
   "cell_type": "code",
   "execution_count": null,
   "id": "7c1d14f3",
   "metadata": {},
   "outputs": [],
   "source": [
    "my_copy['Date'] = pd.to_datetime(my_copy['Date'])"
   ]
  },
  {
   "cell_type": "code",
   "execution_count": null,
   "id": "c384226d",
   "metadata": {},
   "outputs": [],
   "source": [
    "my_copy['Date of the Week'] = my_copy['Date'].dt.weekday"
   ]
  },
  {
   "cell_type": "code",
   "execution_count": null,
   "id": "5810fef7",
   "metadata": {},
   "outputs": [],
   "source": [
    "my_copy"
   ]
  },
  {
   "cell_type": "code",
   "execution_count": null,
   "id": "4719202e",
   "metadata": {},
   "outputs": [],
   "source": [
    "# Education"
   ]
  },
  {
   "cell_type": "code",
   "execution_count": null,
   "id": "d1072317",
   "metadata": {},
   "outputs": [],
   "source": [
    "# 1 = high school\n",
    "# 2 = graduate\n",
    "# 3 = postgraduate\n",
    "# 4 = a master or a doctor\n",
    "# 2,3,4 can combined in a single category\n",
    "my_copy['Education'].unique()"
   ]
  },
  {
   "cell_type": "code",
   "execution_count": null,
   "id": "826734e8",
   "metadata": {},
   "outputs": [],
   "source": [
    "my_copy['Education'].value_counts()"
   ]
  },
  {
   "cell_type": "code",
   "execution_count": null,
   "id": "714a7480",
   "metadata": {},
   "outputs": [],
   "source": [
    "my_copy['Education'] = my_copy['Education'].map({1:0, 2:1, 3:1, 4:1})"
   ]
  },
  {
   "cell_type": "code",
   "execution_count": null,
   "id": "e719a286",
   "metadata": {},
   "outputs": [],
   "source": [
    "my_copy"
   ]
  },
  {
   "cell_type": "code",
   "execution_count": null,
   "id": "21fadfcb",
   "metadata": {},
   "outputs": [],
   "source": []
  }
 ],
 "metadata": {
  "kernelspec": {
   "display_name": "Python 3 (ipykernel)",
   "language": "python",
   "name": "python3"
  },
  "language_info": {
   "codemirror_mode": {
    "name": "ipython",
    "version": 3
   },
   "file_extension": ".py",
   "mimetype": "text/x-python",
   "name": "python",
   "nbconvert_exporter": "python",
   "pygments_lexer": "ipython3",
   "version": "3.9.13"
  }
 },
 "nbformat": 4,
 "nbformat_minor": 5
}
